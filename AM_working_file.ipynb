{
 "cells": [
  {
   "cell_type": "code",
   "execution_count": 97,
   "id": "15a8b2e3-f02b-40d1-b7c4-89b2e62dbe04",
   "metadata": {},
   "outputs": [],
   "source": [
    "import requests\n",
    "import pandas as pd\n",
    "import numpy as np\n",
    "import scipy.stats as st\n",
    "from scipy.stats import linregress\n",
    "import matplotlib.pyplot as plt\n",
    "from apikeys import nps_key\n",
    "from apikeys import weather_key\n",
    "from pprint import pprint"
   ]
  },
  {
   "cell_type": "code",
   "execution_count": 101,
   "id": "4ddddb79-b4a9-4baf-81c6-a5ce3faa435a",
   "metadata": {},
   "outputs": [],
   "source": [
    "url = \"https://developer.nps.gov/api/v1/parks?api_key=\" + nps_key"
   ]
  },
  {
   "cell_type": "code",
   "execution_count": 102,
   "id": "a57dfee4-ff49-4a9a-a780-cd04a86ac782",
   "metadata": {},
   "outputs": [],
   "source": [
    "response = requests.get(url)"
   ]
  },
  {
   "cell_type": "code",
   "execution_count": 104,
   "id": "7d5fea76-b2eb-40b1-ad44-d8b941765b0e",
   "metadata": {},
   "outputs": [],
   "source": [
    "response_json = response.json()"
   ]
  },
  {
   "cell_type": "code",
   "execution_count": 56,
   "id": "75bd3365-6562-4ee1-800c-3164b0479f75",
   "metadata": {},
   "outputs": [],
   "source": [
    "weather_url = \"http://api.openweathermap.org/data/2.5/weather?units=Metric&APPID=\" + weather_key\n",
    "park_url = "
   ]
  },
  {
   "cell_type": "code",
   "execution_count": null,
   "id": "54edf377-2e43-4c40-a47a-18c6c3a602c5",
   "metadata": {},
   "outputs": [],
   "source": [
    "city_lat = city_weather[\"coord\"][\"lat\"]\n",
    "city_lng = city_weather[\"coord\"][\"lon\"]"
   ]
  }
 ],
 "metadata": {
  "kernelspec": {
   "display_name": "Python 3 (ipykernel)",
   "language": "python",
   "name": "python3"
  },
  "language_info": {
   "codemirror_mode": {
    "name": "ipython",
    "version": 3
   },
   "file_extension": ".py",
   "mimetype": "text/x-python",
   "name": "python",
   "nbconvert_exporter": "python",
   "pygments_lexer": "ipython3",
   "version": "3.9.18"
  }
 },
 "nbformat": 4,
 "nbformat_minor": 5
}
